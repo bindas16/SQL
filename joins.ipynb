{
 "cells": [
  {
   "cell_type": "markdown",
   "id": "a051f9a6",
   "metadata": {},
   "source": [
    "# import sql library"
   ]
  },
  {
   "cell_type": "code",
   "execution_count": 3,
   "id": "cdc4f1e0",
   "metadata": {},
   "outputs": [],
   "source": [
    "import pandas as pd\n",
    "import sqlite3"
   ]
  },
  {
   "cell_type": "code",
   "execution_count": 5,
   "id": "a3c9770f",
   "metadata": {},
   "outputs": [
    {
     "name": "stdout",
     "output_type": "stream",
     "text": [
      "The sql extension is already loaded. To reload it, use:\n",
      "  %reload_ext sql\n"
     ]
    }
   ],
   "source": [
    "%load_ext sql\n"
   ]
  },
  {
   "cell_type": "code",
   "execution_count": 7,
   "id": "80b26a70",
   "metadata": {},
   "outputs": [],
   "source": [
    "%sql sqlite://"
   ]
  },
  {
   "cell_type": "markdown",
   "id": "20ac6a7e",
   "metadata": {},
   "source": [
    "# SQl table 1"
   ]
  },
  {
   "cell_type": "code",
   "execution_count": 8,
   "id": "31ceec1d",
   "metadata": {},
   "outputs": [
    {
     "name": "stdout",
     "output_type": "stream",
     "text": [
      " * sqlite://\n",
      "Done.\n"
     ]
    },
    {
     "data": {
      "text/plain": [
       "[]"
      ]
     },
     "execution_count": 8,
     "metadata": {},
     "output_type": "execute_result"
    }
   ],
   "source": [
    "%%sql\n",
    "create table Employee(Emp_id varchar(10) PRIMARY KEY, First name varchar(50) not null, Last name varchar(50), Address varchar(50) not null, title char(25) not null, Salary number(10) not null, Hire_date DATE)"
   ]
  },
  {
   "cell_type": "code",
   "execution_count": 12,
   "id": "624dc3d3",
   "metadata": {},
   "outputs": [
    {
     "name": "stdout",
     "output_type": "stream",
     "text": [
      " * sqlite://\n",
      "Done.\n"
     ]
    },
    {
     "data": {
      "text/html": [
       "<table>\n",
       "    <tr>\n",
       "        <th>Emp_id</th>\n",
       "        <th>First</th>\n",
       "        <th>Last</th>\n",
       "        <th>Address</th>\n",
       "        <th>title</th>\n",
       "        <th>Salary</th>\n",
       "        <th>Hire_date</th>\n",
       "    </tr>\n",
       "</table>"
      ],
      "text/plain": [
       "[]"
      ]
     },
     "execution_count": 12,
     "metadata": {},
     "output_type": "execute_result"
    }
   ],
   "source": [
    "%%sql\n",
    "SELECT * FROM employee;\n"
   ]
  },
  {
   "cell_type": "code",
   "execution_count": 17,
   "id": "2c5794ec",
   "metadata": {},
   "outputs": [
    {
     "name": "stdout",
     "output_type": "stream",
     "text": [
      " * sqlite://\n",
      "1 rows affected.\n",
      "1 rows affected.\n",
      "1 rows affected.\n",
      "1 rows affected.\n",
      "1 rows affected.\n",
      "1 rows affected.\n"
     ]
    },
    {
     "data": {
      "text/plain": [
       "[]"
      ]
     },
     "execution_count": 17,
     "metadata": {},
     "output_type": "execute_result"
    }
   ],
   "source": [
    "%%sql\n",
    "insert into Employee values ('emp03', 'rani', 'singh', '43 law gate', 'tester',77000,'2020-06-18');\n",
    "insert into Employee values ('emp04', 'kittu', 'singh', '43 law gate', 'desiner',57000,'2020-03-04');\n",
    "insert into Employee values ('emp05', 'Aman', 'singh', '43 law gate', 'developer',67000,'2020-08-07');\n",
    "insert into Employee values ('emp06', 'riya', 'singh', '43 law gate', 'tester',74000,'2020-03-04');\n",
    "insert into Employee values ('emp07', 'Ayush', 'singh', '43 law gate', 'tester',47000,'2020-09-13');\n",
    "insert into Employee values ('emp08', 'Nupur', 'singh', '43 law gate', 'developer',37000,'2020-0-19');"
   ]
  },
  {
   "cell_type": "code",
   "execution_count": 18,
   "id": "9179fe42",
   "metadata": {},
   "outputs": [
    {
     "name": "stdout",
     "output_type": "stream",
     "text": [
      " * sqlite://\n",
      "Done.\n"
     ]
    },
    {
     "data": {
      "text/html": [
       "<table>\n",
       "    <tr>\n",
       "        <th>Emp_id</th>\n",
       "        <th>First</th>\n",
       "        <th>Last</th>\n",
       "        <th>Address</th>\n",
       "        <th>title</th>\n",
       "        <th>Salary</th>\n",
       "        <th>Hire_date</th>\n",
       "    </tr>\n",
       "    <tr>\n",
       "        <td>emp01</td>\n",
       "        <td>komal</td>\n",
       "        <td>singh</td>\n",
       "        <td>43 law gate</td>\n",
       "        <td>developer</td>\n",
       "        <td>67000</td>\n",
       "        <td>2020-12-16</td>\n",
       "    </tr>\n",
       "    <tr>\n",
       "        <td>emp02</td>\n",
       "        <td>rani</td>\n",
       "        <td>singh</td>\n",
       "        <td>43 law gate</td>\n",
       "        <td>developer</td>\n",
       "        <td>77000</td>\n",
       "        <td>2020-06-18</td>\n",
       "    </tr>\n",
       "    <tr>\n",
       "        <td>emp03</td>\n",
       "        <td>rani</td>\n",
       "        <td>singh</td>\n",
       "        <td>43 law gate</td>\n",
       "        <td>tester</td>\n",
       "        <td>77000</td>\n",
       "        <td>2020-06-18</td>\n",
       "    </tr>\n",
       "    <tr>\n",
       "        <td>emp04</td>\n",
       "        <td>kittu</td>\n",
       "        <td>singh</td>\n",
       "        <td>43 law gate</td>\n",
       "        <td>desiner</td>\n",
       "        <td>57000</td>\n",
       "        <td>2020-03-04</td>\n",
       "    </tr>\n",
       "    <tr>\n",
       "        <td>emp05</td>\n",
       "        <td>Aman</td>\n",
       "        <td>singh</td>\n",
       "        <td>43 law gate</td>\n",
       "        <td>developer</td>\n",
       "        <td>67000</td>\n",
       "        <td>2020-08-07</td>\n",
       "    </tr>\n",
       "    <tr>\n",
       "        <td>emp06</td>\n",
       "        <td>riya</td>\n",
       "        <td>singh</td>\n",
       "        <td>43 law gate</td>\n",
       "        <td>tester</td>\n",
       "        <td>74000</td>\n",
       "        <td>2020-03-04</td>\n",
       "    </tr>\n",
       "    <tr>\n",
       "        <td>emp07</td>\n",
       "        <td>Ayush</td>\n",
       "        <td>singh</td>\n",
       "        <td>43 law gate</td>\n",
       "        <td>tester</td>\n",
       "        <td>47000</td>\n",
       "        <td>2020-09-13</td>\n",
       "    </tr>\n",
       "    <tr>\n",
       "        <td>emp08</td>\n",
       "        <td>Nupur</td>\n",
       "        <td>singh</td>\n",
       "        <td>43 law gate</td>\n",
       "        <td>developer</td>\n",
       "        <td>37000</td>\n",
       "        <td>2020-0-19</td>\n",
       "    </tr>\n",
       "</table>"
      ],
      "text/plain": [
       "[('emp01', 'komal', 'singh', '43 law gate', 'developer', 67000, '2020-12-16'),\n",
       " ('emp02', 'rani', 'singh', '43 law gate', 'developer', 77000, '2020-06-18'),\n",
       " ('emp03', 'rani', 'singh', '43 law gate', 'tester', 77000, '2020-06-18'),\n",
       " ('emp04', 'kittu', 'singh', '43 law gate', 'desiner', 57000, '2020-03-04'),\n",
       " ('emp05', 'Aman', 'singh', '43 law gate', 'developer', 67000, '2020-08-07'),\n",
       " ('emp06', 'riya', 'singh', '43 law gate', 'tester', 74000, '2020-03-04'),\n",
       " ('emp07', 'Ayush', 'singh', '43 law gate', 'tester', 47000, '2020-09-13'),\n",
       " ('emp08', 'Nupur', 'singh', '43 law gate', 'developer', 37000, '2020-0-19')]"
      ]
     },
     "execution_count": 18,
     "metadata": {},
     "output_type": "execute_result"
    }
   ],
   "source": [
    "%%sql\n",
    "SELECT * FROM employee;\n"
   ]
  },
  {
   "cell_type": "markdown",
   "id": "b28ffdc2",
   "metadata": {},
   "source": [
    "# sql table 2"
   ]
  },
  {
   "cell_type": "code",
   "execution_count": 20,
   "id": "a2293daf",
   "metadata": {},
   "outputs": [
    {
     "name": "stdout",
     "output_type": "stream",
     "text": [
      " * sqlite://\n",
      "Done.\n"
     ]
    },
    {
     "data": {
      "text/plain": [
       "[]"
      ]
     },
     "execution_count": 20,
     "metadata": {},
     "output_type": "execute_result"
    }
   ],
   "source": [
    "%%sql\n",
    "create table Employee2(Emp_id varchar(10) PRIMARY KEY, city_cover varchar(50) not null, Contact_number number(10) not null, Age int,\n",
    "    CHECK (Age>=18) );"
   ]
  },
  {
   "cell_type": "code",
   "execution_count": 27,
   "id": "0414cb70",
   "metadata": {},
   "outputs": [
    {
     "name": "stdout",
     "output_type": "stream",
     "text": [
      " * sqlite://\n",
      "1 rows affected.\n",
      "1 rows affected.\n",
      "1 rows affected.\n",
      "1 rows affected.\n",
      "1 rows affected.\n",
      "1 rows affected.\n"
     ]
    },
    {
     "data": {
      "text/plain": [
       "[]"
      ]
     },
     "execution_count": 27,
     "metadata": {},
     "output_type": "execute_result"
    }
   ],
   "source": [
    "%%sql\n",
    "\n",
    "insert into Employee2 values ('emp03', 'kanpur', 8051557283,24);\n",
    "insert into Employee2 values ('emp04', 'jalandher', 8051557283,22);\n",
    "insert into Employee2 values ('emp05', 'chandighar', 8051557283,29);\n",
    "insert into Employee2 values ('emp06', 'patna', 8051557283,26);\n",
    "insert into Employee2 values ('emp07', 'Delhi', 8051557283,30);\n",
    "insert into Employee2 values ('emp08', 'kanpur', 8051557283,31);\n"
   ]
  },
  {
   "cell_type": "code",
   "execution_count": 29,
   "id": "28fc3f28",
   "metadata": {},
   "outputs": [
    {
     "name": "stdout",
     "output_type": "stream",
     "text": [
      " * sqlite://\n",
      "Done.\n"
     ]
    },
    {
     "data": {
      "text/html": [
       "<table>\n",
       "    <tr>\n",
       "        <th>Emp_id</th>\n",
       "        <th>city_cover</th>\n",
       "        <th>Contact_number</th>\n",
       "        <th>Age</th>\n",
       "    </tr>\n",
       "    <tr>\n",
       "        <td>emp01</td>\n",
       "        <td>Delhi</td>\n",
       "        <td>8051557283</td>\n",
       "        <td>21</td>\n",
       "    </tr>\n",
       "    <tr>\n",
       "        <td>emp02</td>\n",
       "        <td>Delhi</td>\n",
       "        <td>8051557283</td>\n",
       "        <td>21</td>\n",
       "    </tr>\n",
       "    <tr>\n",
       "        <td>emp03</td>\n",
       "        <td>kanpur</td>\n",
       "        <td>8051557283</td>\n",
       "        <td>24</td>\n",
       "    </tr>\n",
       "    <tr>\n",
       "        <td>emp04</td>\n",
       "        <td>jalandher</td>\n",
       "        <td>8051557283</td>\n",
       "        <td>22</td>\n",
       "    </tr>\n",
       "    <tr>\n",
       "        <td>emp05</td>\n",
       "        <td>chandighar</td>\n",
       "        <td>8051557283</td>\n",
       "        <td>29</td>\n",
       "    </tr>\n",
       "    <tr>\n",
       "        <td>emp06</td>\n",
       "        <td>patna</td>\n",
       "        <td>8051557283</td>\n",
       "        <td>26</td>\n",
       "    </tr>\n",
       "    <tr>\n",
       "        <td>emp07</td>\n",
       "        <td>Delhi</td>\n",
       "        <td>8051557283</td>\n",
       "        <td>30</td>\n",
       "    </tr>\n",
       "    <tr>\n",
       "        <td>emp08</td>\n",
       "        <td>kanpur</td>\n",
       "        <td>8051557283</td>\n",
       "        <td>31</td>\n",
       "    </tr>\n",
       "</table>"
      ],
      "text/plain": [
       "[('emp01', 'Delhi', 8051557283, 21),\n",
       " ('emp02', 'Delhi', 8051557283, 21),\n",
       " ('emp03', 'kanpur', 8051557283, 24),\n",
       " ('emp04', 'jalandher', 8051557283, 22),\n",
       " ('emp05', 'chandighar', 8051557283, 29),\n",
       " ('emp06', 'patna', 8051557283, 26),\n",
       " ('emp07', 'Delhi', 8051557283, 30),\n",
       " ('emp08', 'kanpur', 8051557283, 31)]"
      ]
     },
     "execution_count": 29,
     "metadata": {},
     "output_type": "execute_result"
    }
   ],
   "source": [
    "%%sql\n",
    "SELECT * FROM employee2;"
   ]
  },
  {
   "cell_type": "markdown",
   "id": "f3ad9791",
   "metadata": {},
   "source": [
    "# inner join"
   ]
  },
  {
   "cell_type": "code",
   "execution_count": 39,
   "id": "e414744e",
   "metadata": {},
   "outputs": [
    {
     "name": "stdout",
     "output_type": "stream",
     "text": [
      " * sqlite://\n",
      "Done.\n"
     ]
    },
    {
     "data": {
      "text/html": [
       "<table>\n",
       "    <tr>\n",
       "        <th>First</th>\n",
       "        <th>Last</th>\n",
       "        <th>city_cover</th>\n",
       "    </tr>\n",
       "    <tr>\n",
       "        <td>komal</td>\n",
       "        <td>singh</td>\n",
       "        <td>Delhi</td>\n",
       "    </tr>\n",
       "    <tr>\n",
       "        <td>rani</td>\n",
       "        <td>singh</td>\n",
       "        <td>Delhi</td>\n",
       "    </tr>\n",
       "    <tr>\n",
       "        <td>rani</td>\n",
       "        <td>singh</td>\n",
       "        <td>kanpur</td>\n",
       "    </tr>\n",
       "    <tr>\n",
       "        <td>kittu</td>\n",
       "        <td>singh</td>\n",
       "        <td>jalandher</td>\n",
       "    </tr>\n",
       "    <tr>\n",
       "        <td>Aman</td>\n",
       "        <td>singh</td>\n",
       "        <td>chandighar</td>\n",
       "    </tr>\n",
       "    <tr>\n",
       "        <td>riya</td>\n",
       "        <td>singh</td>\n",
       "        <td>patna</td>\n",
       "    </tr>\n",
       "    <tr>\n",
       "        <td>Ayush</td>\n",
       "        <td>singh</td>\n",
       "        <td>Delhi</td>\n",
       "    </tr>\n",
       "    <tr>\n",
       "        <td>Nupur</td>\n",
       "        <td>singh</td>\n",
       "        <td>kanpur</td>\n",
       "    </tr>\n",
       "</table>"
      ],
      "text/plain": [
       "[('komal', 'singh', 'Delhi'),\n",
       " ('rani', 'singh', 'Delhi'),\n",
       " ('rani', 'singh', 'kanpur'),\n",
       " ('kittu', 'singh', 'jalandher'),\n",
       " ('Aman', 'singh', 'chandighar'),\n",
       " ('riya', 'singh', 'patna'),\n",
       " ('Ayush', 'singh', 'Delhi'),\n",
       " ('Nupur', 'singh', 'kanpur')]"
      ]
     },
     "execution_count": 39,
     "metadata": {},
     "output_type": "execute_result"
    }
   ],
   "source": [
    "%%sql\n",
    "select Employee.first,Employee.last,Employee2.city_cover from Employee INNER JOIN Employee2 ON Employee.Emp_id = Employee2.Emp_id;"
   ]
  },
  {
   "cell_type": "markdown",
   "id": "46fb781c",
   "metadata": {},
   "source": [
    "# view"
   ]
  },
  {
   "cell_type": "code",
   "execution_count": 41,
   "id": "083236c8",
   "metadata": {},
   "outputs": [
    {
     "name": "stdout",
     "output_type": "stream",
     "text": [
      " * sqlite://\n",
      "(sqlite3.OperationalError) table DetailsView already exists\n",
      "[SQL: CREATE VIEW DetailsView AS\n",
      "SELECT first, last, title \n",
      "FROM Employee;]\n",
      "(Background on this error at: https://sqlalche.me/e/14/e3q8)\n"
     ]
    }
   ],
   "source": [
    "%%sql\n",
    "CREATE VIEW DetailsView AS\n",
    "SELECT first, last, title \n",
    "FROM Employee;\n",
    "WHERE Emp_id = emp05;"
   ]
  },
  {
   "cell_type": "code",
   "execution_count": 43,
   "id": "bef168a8",
   "metadata": {
    "scrolled": true
   },
   "outputs": [
    {
     "name": "stdout",
     "output_type": "stream",
     "text": [
      " * sqlite://\n",
      "Done.\n"
     ]
    },
    {
     "data": {
      "text/html": [
       "<table>\n",
       "    <tr>\n",
       "        <th>First</th>\n",
       "        <th>Last</th>\n",
       "        <th>title</th>\n",
       "    </tr>\n",
       "    <tr>\n",
       "        <td>komal</td>\n",
       "        <td>singh</td>\n",
       "        <td>developer</td>\n",
       "    </tr>\n",
       "    <tr>\n",
       "        <td>rani</td>\n",
       "        <td>singh</td>\n",
       "        <td>developer</td>\n",
       "    </tr>\n",
       "    <tr>\n",
       "        <td>rani</td>\n",
       "        <td>singh</td>\n",
       "        <td>tester</td>\n",
       "    </tr>\n",
       "    <tr>\n",
       "        <td>kittu</td>\n",
       "        <td>singh</td>\n",
       "        <td>desiner</td>\n",
       "    </tr>\n",
       "    <tr>\n",
       "        <td>Aman</td>\n",
       "        <td>singh</td>\n",
       "        <td>developer</td>\n",
       "    </tr>\n",
       "    <tr>\n",
       "        <td>riya</td>\n",
       "        <td>singh</td>\n",
       "        <td>tester</td>\n",
       "    </tr>\n",
       "    <tr>\n",
       "        <td>Ayush</td>\n",
       "        <td>singh</td>\n",
       "        <td>tester</td>\n",
       "    </tr>\n",
       "    <tr>\n",
       "        <td>Nupur</td>\n",
       "        <td>singh</td>\n",
       "        <td>developer</td>\n",
       "    </tr>\n",
       "</table>"
      ],
      "text/plain": [
       "[('komal', 'singh', 'developer'),\n",
       " ('rani', 'singh', 'developer'),\n",
       " ('rani', 'singh', 'tester'),\n",
       " ('kittu', 'singh', 'desiner'),\n",
       " ('Aman', 'singh', 'developer'),\n",
       " ('riya', 'singh', 'tester'),\n",
       " ('Ayush', 'singh', 'tester'),\n",
       " ('Nupur', 'singh', 'developer')]"
      ]
     },
     "execution_count": 43,
     "metadata": {},
     "output_type": "execute_result"
    }
   ],
   "source": [
    "%%sql\n",
    "SELECT * FROM DetailsView;"
   ]
  },
  {
   "cell_type": "markdown",
   "id": "1b968763",
   "metadata": {},
   "source": [
    "# like clause  "
   ]
  },
  {
   "cell_type": "code",
   "execution_count": 48,
   "id": "ae0ff94d",
   "metadata": {},
   "outputs": [
    {
     "name": "stdout",
     "output_type": "stream",
     "text": [
      " * sqlite://\n",
      "Done.\n"
     ]
    },
    {
     "data": {
      "text/html": [
       "<table>\n",
       "    <tr>\n",
       "        <th>Emp_id</th>\n",
       "        <th>First</th>\n",
       "        <th>Last</th>\n",
       "        <th>Address</th>\n",
       "        <th>title</th>\n",
       "        <th>Salary</th>\n",
       "        <th>Hire_date</th>\n",
       "    </tr>\n",
       "    <tr>\n",
       "        <td>emp01</td>\n",
       "        <td>komal</td>\n",
       "        <td>singh</td>\n",
       "        <td>43 law gate</td>\n",
       "        <td>developer</td>\n",
       "        <td>67000</td>\n",
       "        <td>2020-12-16</td>\n",
       "    </tr>\n",
       "    <tr>\n",
       "        <td>emp02</td>\n",
       "        <td>rani</td>\n",
       "        <td>singh</td>\n",
       "        <td>43 law gate</td>\n",
       "        <td>developer</td>\n",
       "        <td>77000</td>\n",
       "        <td>2020-06-18</td>\n",
       "    </tr>\n",
       "    <tr>\n",
       "        <td>emp05</td>\n",
       "        <td>Aman</td>\n",
       "        <td>singh</td>\n",
       "        <td>43 law gate</td>\n",
       "        <td>developer</td>\n",
       "        <td>67000</td>\n",
       "        <td>2020-08-07</td>\n",
       "    </tr>\n",
       "    <tr>\n",
       "        <td>emp08</td>\n",
       "        <td>Nupur</td>\n",
       "        <td>singh</td>\n",
       "        <td>43 law gate</td>\n",
       "        <td>developer</td>\n",
       "        <td>37000</td>\n",
       "        <td>2020-0-19</td>\n",
       "    </tr>\n",
       "</table>"
      ],
      "text/plain": [
       "[('emp01', 'komal', 'singh', '43 law gate', 'developer', 67000, '2020-12-16'),\n",
       " ('emp02', 'rani', 'singh', '43 law gate', 'developer', 77000, '2020-06-18'),\n",
       " ('emp05', 'Aman', 'singh', '43 law gate', 'developer', 67000, '2020-08-07'),\n",
       " ('emp08', 'Nupur', 'singh', '43 law gate', 'developer', 37000, '2020-0-19')]"
      ]
     },
     "execution_count": 48,
     "metadata": {},
     "output_type": "execute_result"
    }
   ],
   "source": [
    "%%sql\n",
    "select * from Employee where title like '__v%';"
   ]
  },
  {
   "cell_type": "markdown",
   "id": "eac4d27a",
   "metadata": {},
   "source": [
    "# Order by clause "
   ]
  },
  {
   "cell_type": "code",
   "execution_count": 51,
   "id": "ca68210d",
   "metadata": {},
   "outputs": [
    {
     "name": "stdout",
     "output_type": "stream",
     "text": [
      " * sqlite://\n",
      "Done.\n"
     ]
    },
    {
     "data": {
      "text/html": [
       "<table>\n",
       "    <tr>\n",
       "        <th>Emp_id</th>\n",
       "        <th>First</th>\n",
       "        <th>Last</th>\n",
       "        <th>Address</th>\n",
       "        <th>title</th>\n",
       "        <th>Salary</th>\n",
       "        <th>Hire_date</th>\n",
       "    </tr>\n",
       "    <tr>\n",
       "        <td>emp08</td>\n",
       "        <td>Nupur</td>\n",
       "        <td>singh</td>\n",
       "        <td>43 law gate</td>\n",
       "        <td>developer</td>\n",
       "        <td>37000</td>\n",
       "        <td>2020-0-19</td>\n",
       "    </tr>\n",
       "    <tr>\n",
       "        <td>emp07</td>\n",
       "        <td>Ayush</td>\n",
       "        <td>singh</td>\n",
       "        <td>43 law gate</td>\n",
       "        <td>tester</td>\n",
       "        <td>47000</td>\n",
       "        <td>2020-09-13</td>\n",
       "    </tr>\n",
       "    <tr>\n",
       "        <td>emp04</td>\n",
       "        <td>kittu</td>\n",
       "        <td>singh</td>\n",
       "        <td>43 law gate</td>\n",
       "        <td>desiner</td>\n",
       "        <td>57000</td>\n",
       "        <td>2020-03-04</td>\n",
       "    </tr>\n",
       "    <tr>\n",
       "        <td>emp01</td>\n",
       "        <td>komal</td>\n",
       "        <td>singh</td>\n",
       "        <td>43 law gate</td>\n",
       "        <td>developer</td>\n",
       "        <td>67000</td>\n",
       "        <td>2020-12-16</td>\n",
       "    </tr>\n",
       "    <tr>\n",
       "        <td>emp05</td>\n",
       "        <td>Aman</td>\n",
       "        <td>singh</td>\n",
       "        <td>43 law gate</td>\n",
       "        <td>developer</td>\n",
       "        <td>67000</td>\n",
       "        <td>2020-08-07</td>\n",
       "    </tr>\n",
       "    <tr>\n",
       "        <td>emp06</td>\n",
       "        <td>riya</td>\n",
       "        <td>singh</td>\n",
       "        <td>43 law gate</td>\n",
       "        <td>tester</td>\n",
       "        <td>74000</td>\n",
       "        <td>2020-03-04</td>\n",
       "    </tr>\n",
       "    <tr>\n",
       "        <td>emp02</td>\n",
       "        <td>rani</td>\n",
       "        <td>singh</td>\n",
       "        <td>43 law gate</td>\n",
       "        <td>developer</td>\n",
       "        <td>77000</td>\n",
       "        <td>2020-06-18</td>\n",
       "    </tr>\n",
       "    <tr>\n",
       "        <td>emp03</td>\n",
       "        <td>rani</td>\n",
       "        <td>singh</td>\n",
       "        <td>43 law gate</td>\n",
       "        <td>tester</td>\n",
       "        <td>77000</td>\n",
       "        <td>2020-06-18</td>\n",
       "    </tr>\n",
       "</table>"
      ],
      "text/plain": [
       "[('emp08', 'Nupur', 'singh', '43 law gate', 'developer', 37000, '2020-0-19'),\n",
       " ('emp07', 'Ayush', 'singh', '43 law gate', 'tester', 47000, '2020-09-13'),\n",
       " ('emp04', 'kittu', 'singh', '43 law gate', 'desiner', 57000, '2020-03-04'),\n",
       " ('emp01', 'komal', 'singh', '43 law gate', 'developer', 67000, '2020-12-16'),\n",
       " ('emp05', 'Aman', 'singh', '43 law gate', 'developer', 67000, '2020-08-07'),\n",
       " ('emp06', 'riya', 'singh', '43 law gate', 'tester', 74000, '2020-03-04'),\n",
       " ('emp02', 'rani', 'singh', '43 law gate', 'developer', 77000, '2020-06-18'),\n",
       " ('emp03', 'rani', 'singh', '43 law gate', 'tester', 77000, '2020-06-18')]"
      ]
     },
     "execution_count": 51,
     "metadata": {},
     "output_type": "execute_result"
    }
   ],
   "source": [
    "%%sql\n",
    "select * from Employee order by salary;"
   ]
  },
  {
   "cell_type": "code",
   "execution_count": 52,
   "id": "357db24d",
   "metadata": {},
   "outputs": [
    {
     "name": "stdout",
     "output_type": "stream",
     "text": [
      " * sqlite://\n",
      "Done.\n"
     ]
    },
    {
     "data": {
      "text/html": [
       "<table>\n",
       "    <tr>\n",
       "        <th>Emp_id</th>\n",
       "        <th>First</th>\n",
       "        <th>Last</th>\n",
       "        <th>Address</th>\n",
       "        <th>title</th>\n",
       "        <th>Salary</th>\n",
       "        <th>Hire_date</th>\n",
       "    </tr>\n",
       "    <tr>\n",
       "        <td>emp02</td>\n",
       "        <td>rani</td>\n",
       "        <td>singh</td>\n",
       "        <td>43 law gate</td>\n",
       "        <td>developer</td>\n",
       "        <td>77000</td>\n",
       "        <td>2020-06-18</td>\n",
       "    </tr>\n",
       "    <tr>\n",
       "        <td>emp03</td>\n",
       "        <td>rani</td>\n",
       "        <td>singh</td>\n",
       "        <td>43 law gate</td>\n",
       "        <td>tester</td>\n",
       "        <td>77000</td>\n",
       "        <td>2020-06-18</td>\n",
       "    </tr>\n",
       "    <tr>\n",
       "        <td>emp06</td>\n",
       "        <td>riya</td>\n",
       "        <td>singh</td>\n",
       "        <td>43 law gate</td>\n",
       "        <td>tester</td>\n",
       "        <td>74000</td>\n",
       "        <td>2020-03-04</td>\n",
       "    </tr>\n",
       "    <tr>\n",
       "        <td>emp01</td>\n",
       "        <td>komal</td>\n",
       "        <td>singh</td>\n",
       "        <td>43 law gate</td>\n",
       "        <td>developer</td>\n",
       "        <td>67000</td>\n",
       "        <td>2020-12-16</td>\n",
       "    </tr>\n",
       "    <tr>\n",
       "        <td>emp05</td>\n",
       "        <td>Aman</td>\n",
       "        <td>singh</td>\n",
       "        <td>43 law gate</td>\n",
       "        <td>developer</td>\n",
       "        <td>67000</td>\n",
       "        <td>2020-08-07</td>\n",
       "    </tr>\n",
       "    <tr>\n",
       "        <td>emp04</td>\n",
       "        <td>kittu</td>\n",
       "        <td>singh</td>\n",
       "        <td>43 law gate</td>\n",
       "        <td>desiner</td>\n",
       "        <td>57000</td>\n",
       "        <td>2020-03-04</td>\n",
       "    </tr>\n",
       "    <tr>\n",
       "        <td>emp07</td>\n",
       "        <td>Ayush</td>\n",
       "        <td>singh</td>\n",
       "        <td>43 law gate</td>\n",
       "        <td>tester</td>\n",
       "        <td>47000</td>\n",
       "        <td>2020-09-13</td>\n",
       "    </tr>\n",
       "    <tr>\n",
       "        <td>emp08</td>\n",
       "        <td>Nupur</td>\n",
       "        <td>singh</td>\n",
       "        <td>43 law gate</td>\n",
       "        <td>developer</td>\n",
       "        <td>37000</td>\n",
       "        <td>2020-0-19</td>\n",
       "    </tr>\n",
       "</table>"
      ],
      "text/plain": [
       "[('emp02', 'rani', 'singh', '43 law gate', 'developer', 77000, '2020-06-18'),\n",
       " ('emp03', 'rani', 'singh', '43 law gate', 'tester', 77000, '2020-06-18'),\n",
       " ('emp06', 'riya', 'singh', '43 law gate', 'tester', 74000, '2020-03-04'),\n",
       " ('emp01', 'komal', 'singh', '43 law gate', 'developer', 67000, '2020-12-16'),\n",
       " ('emp05', 'Aman', 'singh', '43 law gate', 'developer', 67000, '2020-08-07'),\n",
       " ('emp04', 'kittu', 'singh', '43 law gate', 'desiner', 57000, '2020-03-04'),\n",
       " ('emp07', 'Ayush', 'singh', '43 law gate', 'tester', 47000, '2020-09-13'),\n",
       " ('emp08', 'Nupur', 'singh', '43 law gate', 'developer', 37000, '2020-0-19')]"
      ]
     },
     "execution_count": 52,
     "metadata": {},
     "output_type": "execute_result"
    }
   ],
   "source": [
    "%%sql\n",
    "select * from Employee order by salary desc;"
   ]
  }
 ],
 "metadata": {
  "kernelspec": {
   "display_name": "Python 3 (ipykernel)",
   "language": "python",
   "name": "python3"
  },
  "language_info": {
   "codemirror_mode": {
    "name": "ipython",
    "version": 3
   },
   "file_extension": ".py",
   "mimetype": "text/x-python",
   "name": "python",
   "nbconvert_exporter": "python",
   "pygments_lexer": "ipython3",
   "version": "3.10.2"
  }
 },
 "nbformat": 4,
 "nbformat_minor": 5
}
